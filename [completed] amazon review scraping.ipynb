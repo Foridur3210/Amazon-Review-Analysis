{
 "cells": [
  {
   "cell_type": "code",
   "execution_count": null,
   "metadata": {},
   "outputs": [],
   "source": [
    "https://www.amazon.in/Samsung-Galaxy-M30-Gradation-Blue/dp/B07HGJJ58K/ref=sr_1_3?crid=3MHUSID2TZU5Q&keywords=samsung+galaxy+m30&qid=1562506039&s=gateway&smid=A1EWEIV3F4B24B&sprefix=samsung+gal%2Caps%2C279&sr=8-3#customerReviews"
   ]
  },
  {
   "cell_type": "code",
   "execution_count": 4,
   "metadata": {},
   "outputs": [],
   "source": [
    "from lxml import html\n",
    "from json import dump,loads\n",
    "from requests import get\n",
    "import json\n",
    "from re import sub\n",
    "from dateutil import parser as dateparser\n",
    "from time import sleep\n",
    "\n",
    "def ParseReviews(asin):\n",
    "    # This script has only been tested with Amazon.com\n",
    "    amazon_url  = 'https://www.amazon.in/Samsung-Galaxy-M30-Gradation-Blue/dp/B07HGJJ58K/ref=sr_1_3?crid=3MHUSID2TZU5Q&keywords=samsung+galaxy+m30&qid=1562506039&s=gateway&smid=A1EWEIV3F4B24B&sprefix=samsung+gal%2Caps%2C279&sr=8-3#customerReviews'+asin\n",
    "    # Add some recent user agent to prevent amazon from blocking the request \n",
    "    # Find some chrome user agent strings  here https://udger.com/resources/ua-list/browser-detail?browser=Chrome\n",
    "    headers = {'User-Agent': 'Mozilla/5.0 (X11; Linux x86_64) AppleWebKit/537.36 (KHTML, like Gecko) Chrome/62.0.3202.94 Safari/537.36'}\n",
    "    for i in range(5):\n",
    "        response = get(amazon_url, headers = headers, verify=False, timeout=30)\n",
    "        if response.status_code == 404:\n",
    "            return {\"url\": amazon_url, \"error\": \"page not found\"}\n",
    "        if response.status_code != 200:\n",
    "            continue\n",
    "        \n",
    "        # Removing the null bytes from the response.\n",
    "        cleaned_response = response.text.replace('\\x00', '')\n",
    "        \n",
    "        parser = html.fromstring(cleaned_response)\n",
    "        XPATH_AGGREGATE = '//span[@id=\"acrCustomerReviewText\"]'\n",
    "        XPATH_REVIEW_SECTION_1 = '//div[contains(@id,\"reviews-summary\")]'\n",
    "        XPATH_REVIEW_SECTION_2 = '//div[@data-hook=\"review\"]'\n",
    "        XPATH_AGGREGATE_RATING = '//table[@id=\"histogramTable\"]//tr'\n",
    "        XPATH_PRODUCT_NAME = '//h1//span[@id=\"productTitle\"]//text()'\n",
    "        XPATH_PRODUCT_PRICE = '//span[@id=\"priceblock_ourprice\"]/text()'\n",
    "\n",
    "        raw_product_price = parser.xpath(XPATH_PRODUCT_PRICE)\n",
    "        raw_product_name = parser.xpath(XPATH_PRODUCT_NAME)\n",
    "        total_ratings  = parser.xpath(XPATH_AGGREGATE_RATING)\n",
    "        reviews = parser.xpath(XPATH_REVIEW_SECTION_1)\n",
    "\n",
    "        product_price = ''.join(raw_product_price).replace(',', '')\n",
    "        product_name = ''.join(raw_product_name).strip()\n",
    "\n",
    "        if not reviews:\n",
    "            reviews = parser.xpath(XPATH_REVIEW_SECTION_2)\n",
    "        ratings_dict = {}\n",
    "        reviews_list = []\n",
    "\n",
    "        # Grabing the rating  section in product page\n",
    "        for ratings in total_ratings:\n",
    "            extracted_rating = ratings.xpath('./td//a//text()')\n",
    "            if extracted_rating:\n",
    "                rating_key = extracted_rating[0] \n",
    "                raw_raing_value = extracted_rating[1]\n",
    "                rating_value = raw_raing_value\n",
    "                if rating_key:\n",
    "                    ratings_dict.update({rating_key: rating_value})\n",
    "        \n",
    "        # Parsing individual reviews\n",
    "        for review in reviews:\n",
    "            XPATH_RATING  = './/i[@data-hook=\"review-star-rating\"]//text()'\n",
    "            XPATH_REVIEW_HEADER = './/a[@data-hook=\"review-title\"]//text()'\n",
    "            XPATH_REVIEW_POSTED_DATE = './/span[@data-hook=\"review-date\"]//text()'\n",
    "            XPATH_REVIEW_TEXT_1 = './/div[@data-hook=\"review-collapsed\"]//text()'\n",
    "            XPATH_REVIEW_TEXT_2 = './/div//span[@data-action=\"columnbalancing-showfullreview\"]/@data-columnbalancing-showfullreview'\n",
    "            XPATH_REVIEW_COMMENTS = './/span[@data-hook=\"review-comment\"]//text()'\n",
    "            XPATH_AUTHOR = './/span[contains(@class,\"profile-name\")]//text()'\n",
    "            XPATH_REVIEW_TEXT_3 = './/div[contains(@id,\"dpReviews\")]/div/text()'\n",
    "            \n",
    "            raw_review_author = review.xpath(XPATH_AUTHOR)\n",
    "            raw_review_rating = review.xpath(XPATH_RATING)\n",
    "            raw_review_header = review.xpath(XPATH_REVIEW_HEADER)\n",
    "            raw_review_posted_date = review.xpath(XPATH_REVIEW_POSTED_DATE)\n",
    "            raw_review_text1 = review.xpath(XPATH_REVIEW_TEXT_1)\n",
    "            raw_review_text2 = review.xpath(XPATH_REVIEW_TEXT_2)\n",
    "            raw_review_text3 = review.xpath(XPATH_REVIEW_TEXT_3)\n",
    "\n",
    "            # Cleaning data\n",
    "            author = ' '.join(' '.join(raw_review_author).split())\n",
    "            review_rating = ''.join(raw_review_rating).replace('out of 5 stars', '')\n",
    "            review_header = ' '.join(' '.join(raw_review_header).split())\n",
    "\n",
    "            try:\n",
    "                review_posted_date = dateparser.parse(''.join(raw_review_posted_date)).strftime('%d %b %Y')\n",
    "            except:\n",
    "                review_posted_date = None\n",
    "            review_text = ' '.join(' '.join(raw_review_text1).split())\n",
    "\n",
    "            # Grabbing hidden comments if present\n",
    "            if raw_review_text2:\n",
    "                json_loaded_review_data = loads(raw_review_text2[0])\n",
    "                json_loaded_review_data_text = json_loaded_review_data['rest']\n",
    "                cleaned_json_loaded_review_data_text = re.sub('<.*?>', '', json_loaded_review_data_text)\n",
    "                full_review_text = review_text+cleaned_json_loaded_review_data_text\n",
    "            else:\n",
    "                full_review_text = review_text\n",
    "            if not raw_review_text1:\n",
    "                full_review_text = ' '.join(' '.join(raw_review_text3).split())\n",
    "\n",
    "            raw_review_comments = review.xpath(XPATH_REVIEW_COMMENTS)\n",
    "            review_comments = ''.join(raw_review_comments)\n",
    "            review_comments = sub('[A-Za-z]', '', review_comments).strip()\n",
    "            review_dict = {\n",
    "                                'review_comment_count': review_comments,\n",
    "                                'review_text': full_review_text,\n",
    "                                'review_posted_date': review_posted_date,\n",
    "                                'review_header': review_header,\n",
    "                                'review_rating': review_rating,\n",
    "                                'review_author': author\n",
    "\n",
    "                            }\n",
    "            reviews_list.append(review_dict)\n",
    "\n",
    "        data = {\n",
    "                    'ratings': ratings_dict,\n",
    "                    'reviews': reviews_list,\n",
    "                    'url': amazon_url,\n",
    "                    'name': product_name,\n",
    "                    'price': product_price\n",
    "                \n",
    "                }\n",
    "        return data\n",
    "\n",
    "    return {\"error\": \"failed to process the page\", \"url\": amazon_url}\n",
    "            \n",
    "\n"
   ]
  },
  {
   "cell_type": "code",
   "execution_count": 5,
   "metadata": {},
   "outputs": [
    {
     "name": "stdout",
     "output_type": "stream",
     "text": [
      "Downloading and processing page http://www.amazon.com/dp/B07HGJJ58K\n"
     ]
    },
    {
     "name": "stderr",
     "output_type": "stream",
     "text": [
      "C:\\Users\\admin\\Anaconda3\\lib\\site-packages\\urllib3\\connectionpool.py:858: InsecureRequestWarning: Unverified HTTPS request is being made. Adding certificate verification is strongly advised. See: https://urllib3.readthedocs.io/en/latest/advanced-usage.html#ssl-warnings\n",
      "  InsecureRequestWarning)\n"
     ]
    }
   ],
   "source": [
    "def ReadAsin():\n",
    "    # Add your own ASINs here\n",
    "    AsinList = ['B07HGJJ58K']\n",
    "    extracted_data = []\n",
    "    \n",
    "    for asin in AsinList:\n",
    "        print(\"Downloading and processing page http://www.amazon.com/dp/\" + asin)\n",
    "        extracted_data.append(ParseReviews(asin))\n",
    "        sleep(5)\n",
    "    f = open('data1.json', 'w')\n",
    "    dump(extracted_data, f, indent=4)\n",
    "    f.close()\n",
    "\n",
    "if __name__ == '__main__':\n",
    "    ReadAsin()"
   ]
  },
  {
   "cell_type": "code",
   "execution_count": 6,
   "metadata": {},
   "outputs": [
    {
     "name": "stdout",
     "output_type": "stream",
     "text": [
      "[{'ratings': {'5 star': '56%', '4 star': '24%', '3 star': '8%', '2 star': '3%', '1 star': '9%'}, 'reviews': [{'review_comment_count': '', 'review_text': \"Don't fall for the negative reviews. This is best at the price. People following red mi phones but this has bigger advantage. I will write only advantages and cons and feedback Advantage -Amoled display. -Always on display (I compromised but it's there) -5000 Mah battery and runs 2 days. -Fast charging and 15W charger in the box. -Wide angle camera is awsum. -No heating no lagging. -Face unlock is very fast. -Mainly look is stunning..... -Very low radiation -Blue light filter -Lock screen story and stunning pics. Cons -Little slippery in hand but trust me a 99 Rs cover solved it straight away. -Online availability.(Now in stock) -No splash proof (as per the other reviews as I am not going to test this anyway? Feedback feedback -People say camera but I find it's too good. -People say speaker. One in the bottom is loud and clear enough. -People compare with Mi but forget that China model with LCD display and 0.9 SAR value. M30 has SAR of 0.43 After Using for 1 week -All well and amazing. -Working in Telcos with lost of calls phone still has 30% batt on second day. To add i have played game for 30 min and watched online movie for 3 hrs on Jio cinema along with hectic job schedule.\", 'review_posted_date': '14 Mar 2019', 'review_header': 'Read my review and choose then', 'review_rating': '5.0 ', 'review_author': 'Amit Dave'}, {'review_comment_count': '', 'review_text': \"Last few months I am using this mobile performance wise not bad, if you download any file you can't find where it saved.Display -ok not full HD,Audio- Low Speed - you can't play any online games it will be very slow. Earphone -not available. Cam-Good, Totally it is an average product, you can use for only calls and watching movies, Phone contains fiber body, we have to handle carefully.\", 'review_posted_date': '11 Mar 2019', 'review_header': 'Average product.', 'review_rating': '3.0 ', 'review_author': 'DINESH'}, {'review_comment_count': '', 'review_text': \"I just picked up an amazing phone which is Samsung m30 and I'm so happy to make the right decision. Talking about this phone, this comes with great battery life and I can strem all my favourite songs and play games without worrying that it may go off. The camera is very good, captures great pics doesn't let me down. My friends take my phone and go on clicking selfies. I already have 400 plus photos in my gallery. The storage capacity is not a worry either, thanks to the 128gb varient. The display is really very good. Everything so bright and nice. It is not at all heavy and the gaming performance is great. I'm loving it! :)\", 'review_posted_date': '11 Mar 2019', 'review_header': 'Best battery. Beautiful Specs and Display. Love the phone.', 'review_rating': '5.0 ', 'review_author': 'Ritvik Rai'}, {'review_comment_count': '', 'review_text': \"No EarPhone In Box And Mobile Cover Of Samsung M30. Samsung Provide Earphones in 2k Mobiles, But Here It's Missing. I Want To Return Samsung M30, Revert If It's Possible Now?\", 'review_posted_date': '11 Mar 2019', 'review_header': 'NO EARPHONES', 'review_rating': '2.0 ', 'review_author': 'Jitendra'}, {'review_comment_count': '', 'review_text': \"Phone is just fantastic but one problem in here.. does not work Google play or can't install or update any apps from Google play.. only just install from Samsung Galaxy app😓😓\", 'review_posted_date': '22 Mar 2019', 'review_header': 'mobile is ok but one serious problem is running', 'review_rating': '2.0 ', 'review_author': 'Pratip Kumar Das'}, {'review_comment_count': '', 'review_text': \"A Samsung's new launched M30 Smart phone is very cool because of the Infinity U AMOLED Fhd + Display is looking very nice. 13 MP ultra - wide dual camera & a triple camera setup capture which is clearly so cool with one of the best photography & great selfies. One of best part is that the battery lasts long since it has massive 5000 mAh battery & also 3x Fast Charge. Storage its also an important factor. It has 4GB RAM | 64GB internal memory expandable up to 512GB, it means you have sufficient space where you can downlod videos, movies, songs and data. Next is, it has Dual SIM slots and a dedicated slot for memory card. Samsung M30 has Exynos 7904 Processor 1.8 GHz Octa Core Processor & 4GB RAM - multitask gaming, videos, etc.\", 'review_posted_date': '14 Mar 2019', 'review_header': 'Review about the beast!! The Samsung Galaxy M30', 'review_rating': '5.0 ', 'review_author': 'Aman Darji'}, {'review_comment_count': '', 'review_text': \"Very good screen clarity, it looks very neat and appealing, Camera is very good, low light photography is excellent. Fingerprint sensor is fast and it has good speed which helps me switch between apps smoothly. Gaming on this phone is awesome and it doesn't lag while playing games like PUBG and NFS. The 5000mah battery helps me almost never run out of charge . The charger included with the phone charges my phone in a matter of minutes. The AMOLED display helps me see clearer images and lets me watch movies in high definition.The Dolby digital feature helps me listen to music in high quality sound with a beautiful infinity V cut display the phone looks better than anyone. I love it\", 'review_posted_date': '11 Mar 2019', 'review_header': 'Awesome Buy', 'review_rating': '5.0 ', 'review_author': 'Aidan Dsilva'}, {'review_comment_count': '', 'review_text': 'Liked- Battery backup (3days) Wide Camera feature Simple UI 3 slots sim+mmc Disliked- Slippery NO Pie update only single speaker at the bottom', 'review_posted_date': '11 Mar 2019', 'review_header': 'Average phone... Not so cool... ok ok kind of', 'review_rating': '4.0 ', 'review_author': 'Kiran B'}], 'url': 'https://www.amazon.in/Samsung-Galaxy-M30-Gradation-Blue/dp/B07HGJJ58K/ref=sr_1_3?crid=3MHUSID2TZU5Q&keywords=samsung+galaxy+m30&qid=1562506039&s=gateway&smid=A1EWEIV3F4B24B&sprefix=samsung+gal%2Caps%2C279&sr=8-3#customerReviewsB07HGJJ58K', 'name': 'Samsung Galaxy M30 (Gradation Blue, 4+64 GB)', 'price': '₹\\xa013990.00'}]\n"
     ]
    }
   ],
   "source": [
    "import json\n",
    "with open('C:/Users/admin/data1.json') as f:\n",
    "  data = json.load(f)\n",
    "# Output: {'name': 'Bob', 'languages': ['English', 'Fench']}\n",
    "print(data)"
   ]
  },
  {
   "cell_type": "code",
   "execution_count": 9,
   "metadata": {},
   "outputs": [
    {
     "name": "stdout",
     "output_type": "stream",
     "text": [
      "[{'ratings': {'5 star': '56%', '4 star': '24%', '3 star': '8%', '2 star': '3%', '1 star': '9%'}, 'reviews': [{'review_comment_count': '', 'review_text': \"Don't fall for the negative reviews. This is best at the price. People following red mi phones but this has bigger advantage. I will write only advantages and cons and feedback Advantage -Amoled display. -Always on display (I compromised but it's there) -5000 Mah battery and runs 2 days. -Fast charging and 15W charger in the box. -Wide angle camera is awsum. -No heating no lagging. -Face unlock is very fast. -Mainly look is stunning..... -Very low radiation -Blue light filter -Lock screen story and stunning pics. Cons -Little slippery in hand but trust me a 99 Rs cover solved it straight away. -Online availability.(Now in stock) -No splash proof (as per the other reviews as I am not going to test this anyway? Feedback feedback -People say camera but I find it's too good. -People say speaker. One in the bottom is loud and clear enough. -People compare with Mi but forget that China model with LCD display and 0.9 SAR value. M30 has SAR of 0.43 After Using for 1 week -All well and amazing. -Working in Telcos with lost of calls phone still has 30% batt on second day. To add i have played game for 30 min and watched online movie for 3 hrs on Jio cinema along with hectic job schedule.\", 'review_posted_date': '14 Mar 2019', 'review_header': 'Read my review and choose then', 'review_rating': '5.0 ', 'review_author': 'Amit Dave'}, {'review_comment_count': '', 'review_text': \"Last few months I am using this mobile performance wise not bad, if you download any file you can't find where it saved.Display -ok not full HD,Audio- Low Speed - you can't play any online games it will be very slow. Earphone -not available. Cam-Good, Totally it is an average product, you can use for only calls and watching movies, Phone contains fiber body, we have to handle carefully.\", 'review_posted_date': '11 Mar 2019', 'review_header': 'Average product.', 'review_rating': '3.0 ', 'review_author': 'DINESH'}, {'review_comment_count': '', 'review_text': \"I just picked up an amazing phone which is Samsung m30 and I'm so happy to make the right decision. Talking about this phone, this comes with great battery life and I can strem all my favourite songs and play games without worrying that it may go off. The camera is very good, captures great pics doesn't let me down. My friends take my phone and go on clicking selfies. I already have 400 plus photos in my gallery. The storage capacity is not a worry either, thanks to the 128gb varient. The display is really very good. Everything so bright and nice. It is not at all heavy and the gaming performance is great. I'm loving it! :)\", 'review_posted_date': '11 Mar 2019', 'review_header': 'Best battery. Beautiful Specs and Display. Love the phone.', 'review_rating': '5.0 ', 'review_author': 'Ritvik Rai'}, {'review_comment_count': '', 'review_text': \"No EarPhone In Box And Mobile Cover Of Samsung M30. Samsung Provide Earphones in 2k Mobiles, But Here It's Missing. I Want To Return Samsung M30, Revert If It's Possible Now?\", 'review_posted_date': '11 Mar 2019', 'review_header': 'NO EARPHONES', 'review_rating': '2.0 ', 'review_author': 'Jitendra'}, {'review_comment_count': '', 'review_text': \"Phone is just fantastic but one problem in here.. does not work Google play or can't install or update any apps from Google play.. only just install from Samsung Galaxy app😓😓\", 'review_posted_date': '22 Mar 2019', 'review_header': 'mobile is ok but one serious problem is running', 'review_rating': '2.0 ', 'review_author': 'Pratip Kumar Das'}, {'review_comment_count': '', 'review_text': \"A Samsung's new launched M30 Smart phone is very cool because of the Infinity U AMOLED Fhd + Display is looking very nice. 13 MP ultra - wide dual camera & a triple camera setup capture which is clearly so cool with one of the best photography & great selfies. One of best part is that the battery lasts long since it has massive 5000 mAh battery & also 3x Fast Charge. Storage its also an important factor. It has 4GB RAM | 64GB internal memory expandable up to 512GB, it means you have sufficient space where you can downlod videos, movies, songs and data. Next is, it has Dual SIM slots and a dedicated slot for memory card. Samsung M30 has Exynos 7904 Processor 1.8 GHz Octa Core Processor & 4GB RAM - multitask gaming, videos, etc.\", 'review_posted_date': '14 Mar 2019', 'review_header': 'Review about the beast!! The Samsung Galaxy M30', 'review_rating': '5.0 ', 'review_author': 'Aman Darji'}, {'review_comment_count': '', 'review_text': \"Very good screen clarity, it looks very neat and appealing, Camera is very good, low light photography is excellent. Fingerprint sensor is fast and it has good speed which helps me switch between apps smoothly. Gaming on this phone is awesome and it doesn't lag while playing games like PUBG and NFS. The 5000mah battery helps me almost never run out of charge . The charger included with the phone charges my phone in a matter of minutes. The AMOLED display helps me see clearer images and lets me watch movies in high definition.The Dolby digital feature helps me listen to music in high quality sound with a beautiful infinity V cut display the phone looks better than anyone. I love it\", 'review_posted_date': '11 Mar 2019', 'review_header': 'Awesome Buy', 'review_rating': '5.0 ', 'review_author': 'Aidan Dsilva'}, {'review_comment_count': '', 'review_text': 'Liked- Battery backup (3days) Wide Camera feature Simple UI 3 slots sim+mmc Disliked- Slippery NO Pie update only single speaker at the bottom', 'review_posted_date': '11 Mar 2019', 'review_header': 'Average phone... Not so cool... ok ok kind of', 'review_rating': '4.0 ', 'review_author': 'Kiran B'}], 'url': 'https://www.amazon.in/Samsung-Galaxy-M30-Gradation-Blue/dp/B07HGJJ58K/ref=sr_1_3?crid=3MHUSID2TZU5Q&keywords=samsung+galaxy+m30&qid=1562506039&s=gateway&smid=A1EWEIV3F4B24B&sprefix=samsung+gal%2Caps%2C279&sr=8-3#customerReviewsB01ETPUQ6E', 'name': 'Samsung Galaxy M30 (Gradation Blue, 4+64 GB)', 'price': '₹\\xa013990.00'}, {'ratings': {'5 star': '56%', '4 star': '24%', '3 star': '8%', '2 star': '3%', '1 star': '9%'}, 'reviews': [{'review_comment_count': '', 'review_text': \"Don't fall for the negative reviews. This is best at the price. People following red mi phones but this has bigger advantage. I will write only advantages and cons and feedback Advantage -Amoled display. -Always on display (I compromised but it's there) -5000 Mah battery and runs 2 days. -Fast charging and 15W charger in the box. -Wide angle camera is awsum. -No heating no lagging. -Face unlock is very fast. -Mainly look is stunning..... -Very low radiation -Blue light filter -Lock screen story and stunning pics. Cons -Little slippery in hand but trust me a 99 Rs cover solved it straight away. -Online availability.(Now in stock) -No splash proof (as per the other reviews as I am not going to test this anyway? Feedback feedback -People say camera but I find it's too good. -People say speaker. One in the bottom is loud and clear enough. -People compare with Mi but forget that China model with LCD display and 0.9 SAR value. M30 has SAR of 0.43 After Using for 1 week -All well and amazing. -Working in Telcos with lost of calls phone still has 30% batt on second day. To add i have played game for 30 min and watched online movie for 3 hrs on Jio cinema along with hectic job schedule.\", 'review_posted_date': '14 Mar 2019', 'review_header': 'Read my review and choose then', 'review_rating': '5.0 ', 'review_author': 'Amit Dave'}, {'review_comment_count': '', 'review_text': \"Last few months I am using this mobile performance wise not bad, if you download any file you can't find where it saved.Display -ok not full HD,Audio- Low Speed - you can't play any online games it will be very slow. Earphone -not available. Cam-Good, Totally it is an average product, you can use for only calls and watching movies, Phone contains fiber body, we have to handle carefully.\", 'review_posted_date': '11 Mar 2019', 'review_header': 'Average product.', 'review_rating': '3.0 ', 'review_author': 'DINESH'}, {'review_comment_count': '', 'review_text': \"I just picked up an amazing phone which is Samsung m30 and I'm so happy to make the right decision. Talking about this phone, this comes with great battery life and I can strem all my favourite songs and play games without worrying that it may go off. The camera is very good, captures great pics doesn't let me down. My friends take my phone and go on clicking selfies. I already have 400 plus photos in my gallery. The storage capacity is not a worry either, thanks to the 128gb varient. The display is really very good. Everything so bright and nice. It is not at all heavy and the gaming performance is great. I'm loving it! :)\", 'review_posted_date': '11 Mar 2019', 'review_header': 'Best battery. Beautiful Specs and Display. Love the phone.', 'review_rating': '5.0 ', 'review_author': 'Ritvik Rai'}, {'review_comment_count': '', 'review_text': \"No EarPhone In Box And Mobile Cover Of Samsung M30. Samsung Provide Earphones in 2k Mobiles, But Here It's Missing. I Want To Return Samsung M30, Revert If It's Possible Now?\", 'review_posted_date': '11 Mar 2019', 'review_header': 'NO EARPHONES', 'review_rating': '2.0 ', 'review_author': 'Jitendra'}, {'review_comment_count': '', 'review_text': \"Phone is just fantastic but one problem in here.. does not work Google play or can't install or update any apps from Google play.. only just install from Samsung Galaxy app😓😓\", 'review_posted_date': '22 Mar 2019', 'review_header': 'mobile is ok but one serious problem is running', 'review_rating': '2.0 ', 'review_author': 'Pratip Kumar Das'}, {'review_comment_count': '', 'review_text': \"A Samsung's new launched M30 Smart phone is very cool because of the Infinity U AMOLED Fhd + Display is looking very nice. 13 MP ultra - wide dual camera & a triple camera setup capture which is clearly so cool with one of the best photography & great selfies. One of best part is that the battery lasts long since it has massive 5000 mAh battery & also 3x Fast Charge. Storage its also an important factor. It has 4GB RAM | 64GB internal memory expandable up to 512GB, it means you have sufficient space where you can downlod videos, movies, songs and data. Next is, it has Dual SIM slots and a dedicated slot for memory card. Samsung M30 has Exynos 7904 Processor 1.8 GHz Octa Core Processor & 4GB RAM - multitask gaming, videos, etc.\", 'review_posted_date': '14 Mar 2019', 'review_header': 'Review about the beast!! The Samsung Galaxy M30', 'review_rating': '5.0 ', 'review_author': 'Aman Darji'}, {'review_comment_count': '', 'review_text': \"Very good screen clarity, it looks very neat and appealing, Camera is very good, low light photography is excellent. Fingerprint sensor is fast and it has good speed which helps me switch between apps smoothly. Gaming on this phone is awesome and it doesn't lag while playing games like PUBG and NFS. The 5000mah battery helps me almost never run out of charge . The charger included with the phone charges my phone in a matter of minutes. The AMOLED display helps me see clearer images and lets me watch movies in high definition.The Dolby digital feature helps me listen to music in high quality sound with a beautiful infinity V cut display the phone looks better than anyone. I love it\", 'review_posted_date': '11 Mar 2019', 'review_header': 'Awesome Buy', 'review_rating': '5.0 ', 'review_author': 'Aidan Dsilva'}, {'review_comment_count': '', 'review_text': 'Liked- Battery backup (3days) Wide Camera feature Simple UI 3 slots sim+mmc Disliked- Slippery NO Pie update only single speaker at the bottom', 'review_posted_date': '11 Mar 2019', 'review_header': 'Average phone... Not so cool... ok ok kind of', 'review_rating': '4.0 ', 'review_author': 'Kiran B'}], 'url': 'https://www.amazon.in/Samsung-Galaxy-M30-Gradation-Blue/dp/B07HGJJ58K/ref=sr_1_3?crid=3MHUSID2TZU5Q&keywords=samsung+galaxy+m30&qid=1562506039&s=gateway&smid=A1EWEIV3F4B24B&sprefix=samsung+gal%2Caps%2C279&sr=8-3#customerReviewsB017HW9DEW', 'name': 'Samsung Galaxy M30 (Gradation Blue, 4+64 GB)', 'price': '₹\\xa013990.00'}, {'ratings': {'5 star': '56%', '4 star': '24%', '3 star': '8%', '2 star': '3%', '1 star': '9%'}, 'reviews': [{'review_comment_count': '', 'review_text': \"Don't fall for the negative reviews. This is best at the price. People following red mi phones but this has bigger advantage. I will write only advantages and cons and feedback Advantage -Amoled display. -Always on display (I compromised but it's there) -5000 Mah battery and runs 2 days. -Fast charging and 15W charger in the box. -Wide angle camera is awsum. -No heating no lagging. -Face unlock is very fast. -Mainly look is stunning..... -Very low radiation -Blue light filter -Lock screen story and stunning pics. Cons -Little slippery in hand but trust me a 99 Rs cover solved it straight away. -Online availability.(Now in stock) -No splash proof (as per the other reviews as I am not going to test this anyway? Feedback feedback -People say camera but I find it's too good. -People say speaker. One in the bottom is loud and clear enough. -People compare with Mi but forget that China model with LCD display and 0.9 SAR value. M30 has SAR of 0.43 After Using for 1 week -All well and amazing. -Working in Telcos with lost of calls phone still has 30% batt on second day. To add i have played game for 30 min and watched online movie for 3 hrs on Jio cinema along with hectic job schedule.\", 'review_posted_date': '14 Mar 2019', 'review_header': 'Read my review and choose then', 'review_rating': '5.0 ', 'review_author': 'Amit Dave'}, {'review_comment_count': '', 'review_text': \"Last few months I am using this mobile performance wise not bad, if you download any file you can't find where it saved.Display -ok not full HD,Audio- Low Speed - you can't play any online games it will be very slow. Earphone -not available. Cam-Good, Totally it is an average product, you can use for only calls and watching movies, Phone contains fiber body, we have to handle carefully.\", 'review_posted_date': '11 Mar 2019', 'review_header': 'Average product.', 'review_rating': '3.0 ', 'review_author': 'DINESH'}, {'review_comment_count': '', 'review_text': \"I just picked up an amazing phone which is Samsung m30 and I'm so happy to make the right decision. Talking about this phone, this comes with great battery life and I can strem all my favourite songs and play games without worrying that it may go off. The camera is very good, captures great pics doesn't let me down. My friends take my phone and go on clicking selfies. I already have 400 plus photos in my gallery. The storage capacity is not a worry either, thanks to the 128gb varient. The display is really very good. Everything so bright and nice. It is not at all heavy and the gaming performance is great. I'm loving it! :)\", 'review_posted_date': '11 Mar 2019', 'review_header': 'Best battery. Beautiful Specs and Display. Love the phone.', 'review_rating': '5.0 ', 'review_author': 'Ritvik Rai'}, {'review_comment_count': '', 'review_text': \"No EarPhone In Box And Mobile Cover Of Samsung M30. Samsung Provide Earphones in 2k Mobiles, But Here It's Missing. I Want To Return Samsung M30, Revert If It's Possible Now?\", 'review_posted_date': '11 Mar 2019', 'review_header': 'NO EARPHONES', 'review_rating': '2.0 ', 'review_author': 'Jitendra'}, {'review_comment_count': '', 'review_text': \"Phone is just fantastic but one problem in here.. does not work Google play or can't install or update any apps from Google play.. only just install from Samsung Galaxy app😓😓\", 'review_posted_date': '22 Mar 2019', 'review_header': 'mobile is ok but one serious problem is running', 'review_rating': '2.0 ', 'review_author': 'Pratip Kumar Das'}, {'review_comment_count': '', 'review_text': \"A Samsung's new launched M30 Smart phone is very cool because of the Infinity U AMOLED Fhd + Display is looking very nice. 13 MP ultra - wide dual camera & a triple camera setup capture which is clearly so cool with one of the best photography & great selfies. One of best part is that the battery lasts long since it has massive 5000 mAh battery & also 3x Fast Charge. Storage its also an important factor. It has 4GB RAM | 64GB internal memory expandable up to 512GB, it means you have sufficient space where you can downlod videos, movies, songs and data. Next is, it has Dual SIM slots and a dedicated slot for memory card. Samsung M30 has Exynos 7904 Processor 1.8 GHz Octa Core Processor & 4GB RAM - multitask gaming, videos, etc.\", 'review_posted_date': '14 Mar 2019', 'review_header': 'Review about the beast!! The Samsung Galaxy M30', 'review_rating': '5.0 ', 'review_author': 'Aman Darji'}, {'review_comment_count': '', 'review_text': \"Very good screen clarity, it looks very neat and appealing, Camera is very good, low light photography is excellent. Fingerprint sensor is fast and it has good speed which helps me switch between apps smoothly. Gaming on this phone is awesome and it doesn't lag while playing games like PUBG and NFS. The 5000mah battery helps me almost never run out of charge . The charger included with the phone charges my phone in a matter of minutes. The AMOLED display helps me see clearer images and lets me watch movies in high definition.The Dolby digital feature helps me listen to music in high quality sound with a beautiful infinity V cut display the phone looks better than anyone. I love it\", 'review_posted_date': '11 Mar 2019', 'review_header': 'Awesome Buy', 'review_rating': '5.0 ', 'review_author': 'Aidan Dsilva'}, {'review_comment_count': '', 'review_text': 'Liked- Battery backup (3days) Wide Camera feature Simple UI 3 slots sim+mmc Disliked- Slippery NO Pie update only single speaker at the bottom', 'review_posted_date': '11 Mar 2019', 'review_header': 'Average phone... Not so cool... ok ok kind of', 'review_rating': '4.0 ', 'review_author': 'Kiran B'}], 'url': 'https://www.amazon.in/Samsung-Galaxy-M30-Gradation-Blue/dp/B07HGJJ58K/ref=sr_1_3?crid=3MHUSID2TZU5Q&keywords=samsung+galaxy+m30&qid=1562506039&s=gateway&smid=A1EWEIV3F4B24B&sprefix=samsung+gal%2Caps%2C279&sr=8-3#customerReviewsB00U8KSIOM', 'name': 'Samsung Galaxy M30 (Gradation Blue, 4+64 GB)', 'price': '₹\\xa013990.00'}]\n"
     ]
    }
   ],
   "source": [
    "import json\n",
    "with open('C:/Users/admin/data.json') as f:\n",
    "  data = json.load(f)\n",
    "# Output: {'name': 'Bob', 'languages': ['English', 'Fench']}\n",
    "print(data)"
   ]
  },
  {
   "cell_type": "code",
   "execution_count": null,
   "metadata": {},
   "outputs": [],
   "source": []
  }
 ],
 "metadata": {
  "kernelspec": {
   "display_name": "Python 3",
   "language": "python",
   "name": "python3"
  },
  "language_info": {
   "codemirror_mode": {
    "name": "ipython",
    "version": 3
   },
   "file_extension": ".py",
   "mimetype": "text/x-python",
   "name": "python",
   "nbconvert_exporter": "python",
   "pygments_lexer": "ipython3",
   "version": "3.7.4"
  }
 },
 "nbformat": 4,
 "nbformat_minor": 2
}
